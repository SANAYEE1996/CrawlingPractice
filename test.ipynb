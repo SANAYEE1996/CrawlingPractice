{
 "cells": [
  {
   "cell_type": "code",
   "execution_count": 14,
   "id": "7c13cb55",
   "metadata": {},
   "outputs": [],
   "source": [
    "import pandas as pd\n",
    "pd.set_option('display.max_rows',None)\n",
    "pd.set_option('display.max_columns',None)"
   ]
  },
  {
   "cell_type": "code",
   "execution_count": 15,
   "id": "c0d24653",
   "metadata": {},
   "outputs": [],
   "source": [
    "data1 = pd.read_csv('C:/Users/user2/Downloads/educateAD_1_22.csv' , sep=',' , encoding='utf8')\n",
    "data2 = pd.read_csv('C:/Users/user2/Downloads/educateAD_2_22.csv' , sep=',' , encoding='utf8')"
   ]
  },
  {
   "cell_type": "code",
   "execution_count": 16,
   "id": "80253d39",
   "metadata": {},
   "outputs": [],
   "source": [
    "data = pd.concat([data1,data2] , ignore_index=True)"
   ]
  },
  {
   "cell_type": "code",
   "execution_count": 18,
   "id": "708ed6c5",
   "metadata": {},
   "outputs": [],
   "source": [
    "data.to_csv('C:/Users/user2/Downloads/educateAD22.csv' , encoding = 'utf-8-sig')"
   ]
  }
 ],
 "metadata": {
  "kernelspec": {
   "display_name": "Python 3",
   "language": "python",
   "name": "python3"
  },
  "language_info": {
   "codemirror_mode": {
    "name": "ipython",
    "version": 3
   },
   "file_extension": ".py",
   "mimetype": "text/x-python",
   "name": "python",
   "nbconvert_exporter": "python",
   "pygments_lexer": "ipython3",
   "version": "3.8.8"
  }
 },
 "nbformat": 4,
 "nbformat_minor": 5
}
