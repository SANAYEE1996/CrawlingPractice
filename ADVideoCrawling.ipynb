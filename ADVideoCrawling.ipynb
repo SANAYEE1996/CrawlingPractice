{
 "cells": [
  {
   "cell_type": "code",
   "execution_count": 1,
   "id": "d957559a",
   "metadata": {},
   "outputs": [],
   "source": [
    "from selenium import webdriver\n",
    "from bs4 import BeautifulSoup\n",
    "import requests\n",
    "import pandas as pd\n",
    "#from selenium.webdriver.chrome.options import Options\n",
    "import time\n",
    "from tqdm.notebook import tqdm\n",
    "pd.set_option('display.max_rows',None)\n",
    "pd.set_option('display.max_columns',None)"
   ]
  },
  {
   "cell_type": "markdown",
   "id": "4178d96f",
   "metadata": {},
   "source": [
    "# 박영상 교육 노하우스타일\n",
    "\n",
    "# 서예지 여행이벤트 , 뉴스정치 , 음악 , 자동차\n",
    "\n",
    "# 정광의 스포츠 , 엔터테이먼트\n",
    "\n",
    "# 김태연 게임 동물 영화애니메이션 인물블로그 코미디 인생은 코미디야"
   ]
  },
  {
   "cell_type": "code",
   "execution_count": 88,
   "id": "04281194",
   "metadata": {},
   "outputs": [],
   "source": [
    "data = pd.read_csv('C:/Users/user2/Downloads/sportsAD.csv' , sep=\",\", encoding='utf8') #utf8 이 오류나면 cp949 반대면 반대\n",
    "                 ###드라이브에 1차 가공 안에서 각자 맡은 카테고리csv를 저장한 경로\n",
    "urlList = data['광고동영상url']\n",
    "header = \"https://www.youtube.com/watch?v=\"\n",
    "count = len(urlList)\n",
    "tag_list = []\n",
    "explain_list = []"
   ]
  },
  {
   "cell_type": "code",
   "execution_count": 89,
   "id": "11284dab",
   "metadata": {},
   "outputs": [
    {
     "data": {
      "application/vnd.jupyter.widget-view+json": {
       "model_id": "496348286f284b10b283ba0aa0e9b0bd",
       "version_major": 2,
       "version_minor": 0
      },
      "text/plain": [
       "  0%|          | 0/1243 [00:00<?, ?it/s]"
      ]
     },
     "metadata": {},
     "output_type": "display_data"
    },
    {
     "name": "stdout",
     "output_type": "stream",
     "text": [
      "9 번째 행 어디선가 안됬음.. 기억만 하셈\n"
     ]
    }
   ],
   "source": [
    "for i in tqdm(range(count)):\n",
    "    hashtag = \"\"\n",
    "    explain = \"\"\n",
    "\n",
    "    geturl = header + urlList[i]\n",
    "    try:\n",
    "        driver = webdriver.Chrome(executable_path='C:/chromedriver')\n",
    "        driver.get(url=geturl)\n",
    "        time.sleep(1)\n",
    "        tags = driver.find_elements_by_tag_name('ytd-watch-flexy > div > div > div > \\\n",
    "                                                div > div > ytd-video-primary-info-renderer > \\\n",
    "                                                div > yt-formatted-string > a')\n",
    "        for j in range(len(tags)):\n",
    "            hashtag += tags[j].text\n",
    "        morebutton = driver.find_elements_by_tag_name('div > div > \\\n",
    "                                                      ytd-video-secondary-info-renderer > \\\n",
    "                                                      div > ytd-expander > \\\n",
    "                                                      tp-yt-paper-button > yt-formatted-string ')\n",
    "        time.sleep(1)\n",
    "        if  morebutton[1].text != '':\n",
    "            morebutton[1].click()\n",
    "            time.sleep(1)\n",
    "            descriptions = driver.find_elements_by_tag_name('div > ytd-video-secondary-info-renderer > \\\n",
    "                                        div > ytd-expander > \\\n",
    "                                        div > div > yt-formatted-string')\n",
    "            explain = descriptions[0].text\n",
    "    except:\n",
    "        hashtag = \"\"\n",
    "        explain = \"\"\n",
    "        print(i,\"번째 행 어디선가 안됬음.. 기억만 하셈\")\n",
    "    tag_list.append(hashtag)\n",
    "    explain_list.append(explain)\n",
    "    time.sleep(1)\n",
    "    driver.quit()\n",
    "data['해시태그'] = tag_list\n",
    "data['상세설명'] = explain_list\n",
    "data.to_csv('C:/Users/user2/Downloads/sportsAD22.csv' , encoding = 'utf-8-sig')"
   ]
  }
 ],
 "metadata": {
  "kernelspec": {
   "display_name": "Python 3",
   "language": "python",
   "name": "python3"
  },
  "language_info": {
   "codemirror_mode": {
    "name": "ipython",
    "version": 3
   },
   "file_extension": ".py",
   "mimetype": "text/x-python",
   "name": "python",
   "nbconvert_exporter": "python",
   "pygments_lexer": "ipython3",
   "version": "3.8.8"
  }
 },
 "nbformat": 4,
 "nbformat_minor": 5
}
