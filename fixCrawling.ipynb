{
 "cells": [
  {
   "cell_type": "code",
   "execution_count": 74,
   "id": "7f29b051",
   "metadata": {},
   "outputs": [],
   "source": [
    "import pandas as pd\n",
    "from tqdm.notebook import tqdm\n",
    "pd.set_option('display.max_rows',None)\n",
    "pd.set_option('display.max_columns',None)"
   ]
  },
  {
   "cell_type": "code",
   "execution_count": 132,
   "id": "e43939f8",
   "metadata": {},
   "outputs": [],
   "source": [
    "data = pd.read_csv('C:/Users/user2/Desktop/before/vlogAD22.csv', sep=\",\",encoding=\"utf8\") #cp949 #utf8"
   ]
  },
  {
   "cell_type": "code",
   "execution_count": 133,
   "id": "96c6bfbb",
   "metadata": {},
   "outputs": [],
   "source": [
    "likeList = data['좋아요']\n",
    "disList = data['싫어요']\n",
    "count = len(likeList)"
   ]
  },
  {
   "cell_type": "code",
   "execution_count": 134,
   "id": "2524426a",
   "metadata": {},
   "outputs": [
    {
     "data": {
      "application/vnd.jupyter.widget-view+json": {
       "model_id": "5de414c037d443e3a85a38d97a7542b0",
       "version_major": 2,
       "version_minor": 0
      },
      "text/plain": [
       "  0%|          | 0/340 [00:00<?, ?it/s]"
      ]
     },
     "metadata": {},
     "output_type": "display_data"
    },
    {
     "name": "stderr",
     "output_type": "stream",
     "text": [
      "<ipython-input-134-b32e7994df80>:12: SettingWithCopyWarning: \n",
      "A value is trying to be set on a copy of a slice from a DataFrame\n",
      "\n",
      "See the caveats in the documentation: https://pandas.pydata.org/pandas-docs/stable/user_guide/indexing.html#returning-a-view-versus-a-copy\n",
      "  likeList[i] = likeList[i].replace('만','')\n",
      "<ipython-input-134-b32e7994df80>:23: SettingWithCopyWarning: \n",
      "A value is trying to be set on a copy of a slice from a DataFrame\n",
      "\n",
      "See the caveats in the documentation: https://pandas.pydata.org/pandas-docs/stable/user_guide/indexing.html#returning-a-view-versus-a-copy\n",
      "  disList[i] = disList[i].replace('천','')\n",
      "<ipython-input-134-b32e7994df80>:7: SettingWithCopyWarning: \n",
      "A value is trying to be set on a copy of a slice from a DataFrame\n",
      "\n",
      "See the caveats in the documentation: https://pandas.pydata.org/pandas-docs/stable/user_guide/indexing.html#returning-a-view-versus-a-copy\n",
      "  likeList[i] = likeList[i].replace('천','')\n",
      "<ipython-input-134-b32e7994df80>:28: SettingWithCopyWarning: \n",
      "A value is trying to be set on a copy of a slice from a DataFrame\n",
      "\n",
      "See the caveats in the documentation: https://pandas.pydata.org/pandas-docs/stable/user_guide/indexing.html#returning-a-view-versus-a-copy\n",
      "  disList[i] = disList[i].replace('만','')\n"
     ]
    }
   ],
   "source": [
    "for i in tqdm(range(count)):\n",
    "    like = 0\n",
    "    dislike = 0\n",
    "    ratio = 0\n",
    "    if likeList[i].__class__.__name__=='str':\n",
    "        if '천' in likeList[i]:\n",
    "            likeList[i] = likeList[i].replace('천','')\n",
    "            like = float(likeList[i])\n",
    "            like *= 1000\n",
    "            data.loc[i,'좋아요'] = like\n",
    "        elif '만' in likeList[i]:\n",
    "            likeList[i] = likeList[i].replace('만','')\n",
    "            like = float(likeList[i])\n",
    "            like *= 10000\n",
    "            data.loc[i,'좋아요'] = like\n",
    "        else:\n",
    "            like = float(likeList[i])\n",
    "    else:\n",
    "        like = float(likeList[i])\n",
    "    \n",
    "    if disList[i].__class__.__name__=='str':\n",
    "        if '천' in disList[i]:\n",
    "            disList[i] = disList[i].replace('천','')\n",
    "            dislike = float(disList[i])\n",
    "            dislike *= 1000\n",
    "            data.loc[i,'싫어요'] = dislike\n",
    "        elif '만' in disList[i]:\n",
    "            disList[i] = disList[i].replace('만','')\n",
    "            dislike = float(disList[i])\n",
    "            dislike *= 10000\n",
    "            data.loc[i,'싫어요'] = dislike\n",
    "        else:\n",
    "            dislike = float(disList[i])\n",
    "    else:\n",
    "        dislike = float(disList[i])\n",
    "    \n",
    "    if (like+dislike) != 0 :\n",
    "        ratio = like/(like+dislike)\n",
    "        data.loc[i,'비율'] = ratio\n",
    "    else:\n",
    "        data.loc[i,'비율'] = 0"
   ]
  },
  {
   "cell_type": "code",
   "execution_count": 135,
   "id": "8d13ea13",
   "metadata": {},
   "outputs": [],
   "source": [
    "data.to_csv('C:/Users/user2/Desktop/after/vlogAD.csv' , encoding = 'utf-8-sig')"
   ]
  },
  {
   "cell_type": "code",
   "execution_count": null,
   "id": "223d070b",
   "metadata": {},
   "outputs": [],
   "source": []
  }
 ],
 "metadata": {
  "kernelspec": {
   "display_name": "Python 3",
   "language": "python",
   "name": "python3"
  },
  "language_info": {
   "codemirror_mode": {
    "name": "ipython",
    "version": 3
   },
   "file_extension": ".py",
   "mimetype": "text/x-python",
   "name": "python",
   "nbconvert_exporter": "python",
   "pygments_lexer": "ipython3",
   "version": "3.8.8"
  }
 },
 "nbformat": 4,
 "nbformat_minor": 5
}
