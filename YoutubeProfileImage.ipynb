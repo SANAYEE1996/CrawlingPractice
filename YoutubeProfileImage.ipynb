{
 "cells": [
  {
   "cell_type": "code",
   "execution_count": 1,
   "id": "98459193",
   "metadata": {},
   "outputs": [],
   "source": [
    "from selenium import webdriver\n",
    "from bs4 import BeautifulSoup\n",
    "import requests\n",
    "from selenium.webdriver.chrome.options import Options\n",
    "import time\n",
    "import pandas as pd\n",
    "from tqdm.notebook import tqdm\n",
    "pd.set_option('display.max_rows',None)\n",
    "pd.set_option('display.max_columns',None)"
   ]
  },
  {
   "cell_type": "code",
   "execution_count": 78,
   "id": "deae3eb9",
   "metadata": {},
   "outputs": [],
   "source": [
    "data = pd.read_csv('C:/Users/dudtk/0YSP/0ChannelTable/entertainment.csv' , sep=\",\", encoding='utf8') # utf8 <->cp949\n",
    "# 진짜완전마지막가공에서 저장한 각자 폴더 경로\n",
    "urlList = data['주키']\n",
    "image_list = []\n",
    "header = \"https://www.youtube.com/channel/\"\n",
    "count = len(urlList)"
   ]
  },
  {
   "cell_type": "code",
   "execution_count": 79,
   "id": "14c1fab0",
   "metadata": {},
   "outputs": [
    {
     "data": {
      "application/vnd.jupyter.widget-view+json": {
       "model_id": "2c4056aec76949adb8c2b23171a869ee",
       "version_major": 2,
       "version_minor": 0
      },
      "text/plain": [
       "  0%|          | 0/100 [00:00<?, ?it/s]"
      ]
     },
     "metadata": {},
     "output_type": "display_data"
    }
   ],
   "source": [
    "for i in tqdm(range(count)):\n",
    "    geturl = header + urlList[i]\n",
    "    imageUrl = \"\"\n",
    "    try:\n",
    "        driver = webdriver.Chrome(executable_path='C:/Users/dudtk/0YSP/chromedriver') \n",
    "            # 드라이브 경로 한번만 바꾸셈!\n",
    "        driver.get(url=geturl)\n",
    "        time.sleep(1)\n",
    "        imgList = driver.find_elements_by_tag_name('ytd-c4-tabbed-header-renderer > \\\n",
    "                                                   tp-yt-app-header-layout >\\\n",
    "                                                   div > tp-yt-app-header > \\\n",
    "                                                   div > div > div > div > \\\n",
    "                                                   yt-img-shadow > img')\n",
    "        imageUrl = imgList[0].get_attribute('src')\n",
    "    except:\n",
    "        print(i,\"번째 행 채널 삭제됬나? 안됨\")\n",
    "    image_list.append(imageUrl)\n",
    "    time.sleep(1)\n",
    "    driver.quit()"
   ]
  },
  {
   "cell_type": "code",
   "execution_count": 80,
   "id": "439ba2a2",
   "metadata": {},
   "outputs": [],
   "source": [
    "data['프사링크'] = image_list"
   ]
  },
  {
   "cell_type": "code",
   "execution_count": 82,
   "id": "b72c5521",
   "metadata": {},
   "outputs": [],
   "source": [
    "data.to_csv('C:/Users/dudtk/0YSP/0ChannelTable/0entertainment.csv' , encoding='utf-8-sig')\n",
    "#저장할 경로 // 이름은 앞에 0 붙이는 걸로 일단 통일해봐요"
   ]
  }
 ],
 "metadata": {
  "kernelspec": {
   "display_name": "Python 3",
   "language": "python",
   "name": "python3"
  },
  "language_info": {
   "codemirror_mode": {
    "name": "ipython",
    "version": 3
   },
   "file_extension": ".py",
   "mimetype": "text/x-python",
   "name": "python",
   "nbconvert_exporter": "python",
   "pygments_lexer": "ipython3",
   "version": "3.8.8"
  }
 },
 "nbformat": 4,
 "nbformat_minor": 5
}
