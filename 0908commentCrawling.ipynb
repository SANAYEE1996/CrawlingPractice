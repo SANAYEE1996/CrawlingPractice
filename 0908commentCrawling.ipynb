{
 "cells": [
  {
   "cell_type": "code",
   "execution_count": 1,
   "id": "ee49e97e",
   "metadata": {
    "id": "ee49e97e"
   },
   "outputs": [],
   "source": [
    "from selenium import webdriver\n",
    "from bs4 import BeautifulSoup\n",
    "import requests\n",
    "import pandas as pd\n",
    "import time\n",
    "from tqdm.notebook import tqdm\n",
    "from selenium.webdriver.chrome.options import Options\n",
    "import re\n",
    "pd.set_option('display.max_rows',None)\n",
    "pd.set_option('display.max_columns',None)"
   ]
  },
  {
   "cell_type": "code",
   "execution_count": null,
   "id": "9ad03261",
   "metadata": {
    "id": "9ad03261"
   },
   "outputs": [],
   "source": [
    "data = pd.read_csv('C:/Users/dudtk/Downloads/educateAD_1.csv' , sep=\",\", encoding='utf8')\n",
    "urlList = data['광고동영상url']\n",
    "header = \"https://www.youtube.com/watch?v=\"\n",
    "count = len(urlList)\n",
    "options = Options()\n",
    "options.add_argument('--start-maximized')\n",
    "options.add_argument('--headless')\n",
    "comment_list = []\n",
    "foreign_list = []\n",
    "\n",
    "def isKorean(s):\n",
    "    hangul = re.compile('[^ ㄱ-ㅣ가-힣]+')\n",
    "    result = hangul.sub('', s) # 한글과 띄어쓰기를 제외한 모든 부분을 제거\n",
    "    if len(result) >= 1:\n",
    "        return True\n",
    "    else:\n",
    "        return False"
   ]
  },
  {
   "cell_type": "code",
   "execution_count": null,
   "id": "f8b882df",
   "metadata": {},
   "outputs": [],
   "source": [
    "for i in tqdm(range(count)):\n",
    "    geturl = header + urlList[i]\n",
    "    comment = ''\n",
    "    foreign = 0.0\n",
    "    koreanCount = 0.0\n",
    "    try:\n",
    "        driver = webdriver.Chrome(executable_path='C:/chromedriver', chrome_options=options ) \n",
    "        driver.get(url=geturl)\n",
    "        time.sleep(1)\n",
    "        prev_height = driver.execute_script(\"return document.body.scrollHeight\")\n",
    "        while True:\n",
    "            driver.execute_script(\"window.scrollTo(0,document.documentElement.scrollHeight)\")\n",
    "\n",
    "            time.sleep(1)\n",
    "\n",
    "            curr_height = driver.execute_script(\"return document.documentElement.scrollHeight\")\n",
    "\n",
    "            if(curr_height == prev_height):\n",
    "                break\n",
    "            else:\n",
    "                prev_height = driver.execute_script(\"return document.documentElement.scrollHeight\")\n",
    "        time.sleep(1)\n",
    "        commentList = driver.find_elements_by_tag_name('ytd-comment-thread-renderer > ytd-comment-renderer > \\\n",
    "                                                       div > div > ytd-expander > div > yt-formatted-string')\n",
    "        time.sleep(1)\n",
    "        cnt = int(len(commentList)/2)\n",
    "        for j in tqdm(range(len(commentList))):\n",
    "            if len(commentList[j].text) >= 1 :\n",
    "                comment += commentList[j].text\n",
    "                if(isKorean(commentList[j].text)):\n",
    "                    koreanCount += 1\n",
    "        foreign = float((cnt-koreanCount)/cnt)\n",
    "        print(foreign)\n",
    "    except:\n",
    "        comment = ''\n",
    "        foreign = 0\n",
    "        print(i,\"번째 행 댓글 막혔거나 영상 삭제됬거나 어쨋든 잘 안된듯..\")\n",
    "    comment_list.append(comment)\n",
    "    foreign_list.append(foreign)\n",
    "    driver.quit()\n",
    "data['외국인 비율'] = foreign_list\n",
    "data['모든 댓글'] = comment_list\n",
    "data.to_csv('C:/Users/dudtk/Downloads/educateAD_1_22.csv', encoding='utf-8-sig')"
   ]
  }
 ],
 "metadata": {
  "colab": {
   "name": "0908commentCrawling.ipynb",
   "provenance": []
  },
  "kernelspec": {
   "display_name": "Python 3",
   "language": "python",
   "name": "python3"
  },
  "language_info": {
   "codemirror_mode": {
    "name": "ipython",
    "version": 3
   },
   "file_extension": ".py",
   "mimetype": "text/x-python",
   "name": "python",
   "nbconvert_exporter": "python",
   "pygments_lexer": "ipython3",
   "version": "3.8.8"
  }
 },
 "nbformat": 4,
 "nbformat_minor": 5
}
